{
 "cells": [
  {
   "cell_type": "markdown",
   "metadata": {},
   "source": [
    "# COGS 108 - Data Checkpoint"
   ]
  },
  {
   "cell_type": "markdown",
   "metadata": {},
   "source": [
    "# Names\n",
    "\n",
    "- Alan Wang\n",
    "- An Huynh\n",
    "- Hana Vaid\n",
    "- Seung Huh\n",
    "- Shreya Vanaki"
   ]
  },
  {
   "cell_type": "markdown",
   "metadata": {},
   "source": [
    "<a id='research_question'></a>\n",
    "# Research Question"
   ]
  },
  {
   "cell_type": "markdown",
   "metadata": {},
   "source": [
    "According to Gallup’s World Happiness report’s dataset, which of the six measurements (GDP per capita, healthy life expectancy, social support, freedom to make life choices, generosity, corruption perception) most strongly predicts happiness across the countries surveyed ?:\n",
    "- What indicator displays the largest difference in life satisfaction between the top 15% of the countries more happy than the bottom 15% of the countries, in terms of the indicators of happiness?\n",
    "- Which feature overall is the most strongly correlated with life satisfaction up to 2021?\n",
    "- Which feature overall is the most strongly correlated with positive affect up to 2020?"
   ]
  },
  {
   "cell_type": "markdown",
   "metadata": {},
   "source": [
    "# Dataset(s)"
   ]
  },
  {
   "cell_type": "markdown",
   "metadata": {},
   "source": [
    "*Fill in your dataset information here*\n",
    "\n",
    "(Copy this information for each dataset)\n",
    "- Dataset Name: World Happiness Report\n",
    "- Link to the dataset: \n",
    "    - https://happiness-report.s3.amazonaws.com/2021/DataForFigure2.1WHR2021C2.xls\n",
    "    - https://happiness-report.s3.amazonaws.com/2021/DataPanelWHR2021C2.xls\n",
    "- Number of observations:\n",
    "    - 149 countries for 2021 dataset\n",
    "    - 166 countries for overall dataset (1949 observations overall)\n",
    "\n",
    "1-2 sentences describing each dataset. \n",
    "\n",
    "If you plan to use multiple datasets, add 1-2 sentences about how you plan to combine these datasets."
   ]
  },
  {
   "cell_type": "markdown",
   "metadata": {},
   "source": [
    "# Setup"
   ]
  },
  {
   "cell_type": "code",
   "execution_count": 1,
   "metadata": {},
   "outputs": [],
   "source": [
    "# Import necessary packages for data frames and etc.\n",
    "import pandas as pd"
   ]
  },
  {
   "cell_type": "code",
   "execution_count": 2,
   "metadata": {
    "scrolled": false
   },
   "outputs": [],
   "source": [
    "# Read in the csv files\n",
    "df1 = pd.read_csv('./DataForFigure2.1WHR2021C2.csv')\n",
    "df2 = pd.read_csv('./DataPanelWHR2021C2.csv')"
   ]
  },
  {
   "cell_type": "markdown",
   "metadata": {},
   "source": [
    "# Data Cleaning"
   ]
  },
  {
   "cell_type": "markdown",
   "metadata": {},
   "source": [
    "For our first and second question, we want the Gallup World Health Report to include all years upto 2021. Therefore, we need to combine both the data from 2021 and the data from earlier years into one.\n",
    "\n",
    "We simply pick only the columns we need for data analysis, rename them, and join them together. However, because the focus of the questions are on life satisfaction, we pop off the columns for positive affect and negative affect.\n",
    "\n",
    "For our third question, because the 2021's data does not include the data for positive affect and negative affect, we use the data from earlier years and leave as is."
   ]
  },
  {
   "cell_type": "code",
   "execution_count": 3,
   "metadata": {},
   "outputs": [],
   "source": [
    "# Cleaning up df1: Picking necessary columns, renaming the columns, inserting a column for proper concatenation\n",
    "df1 = df1[['Country name', 'Ladder score', 'Logged GDP per capita', 'Social support', 'Healthy life expectancy', 'Freedom to make life choices', 'Generosity', 'Perceptions of corruption']]\n",
    "df1.columns = ['country_name', 'ladder_score', 'GDP', 'social_support', 'life_expectancy', 'choice_freedom', 'generosity', 'corr_perception']\n",
    "df1.insert(loc=1, column='year', value=2021)\n",
    "\n",
    "# Cleaning up df2: Renaming the columns\n",
    "df2.columns = ['country_name', 'year', 'ladder_score', 'GDP', 'social_support', 'life_expectancy', 'choice_freedom', 'generosity', 'corr_perception', 'pos_affect', 'neg_affect']"
   ]
  },
  {
   "cell_type": "code",
   "execution_count": 4,
   "metadata": {
    "scrolled": true
   },
   "outputs": [
    {
     "data": {
      "text/html": [
       "<div>\n",
       "<style scoped>\n",
       "    .dataframe tbody tr th:only-of-type {\n",
       "        vertical-align: middle;\n",
       "    }\n",
       "\n",
       "    .dataframe tbody tr th {\n",
       "        vertical-align: top;\n",
       "    }\n",
       "\n",
       "    .dataframe thead th {\n",
       "        text-align: right;\n",
       "    }\n",
       "</style>\n",
       "<table border=\"1\" class=\"dataframe\">\n",
       "  <thead>\n",
       "    <tr style=\"text-align: right;\">\n",
       "      <th></th>\n",
       "      <th>country_name</th>\n",
       "      <th>year</th>\n",
       "      <th>ladder_score</th>\n",
       "      <th>GDP</th>\n",
       "      <th>social_support</th>\n",
       "      <th>life_expectancy</th>\n",
       "      <th>choice_freedom</th>\n",
       "      <th>generosity</th>\n",
       "      <th>corr_perception</th>\n",
       "    </tr>\n",
       "  </thead>\n",
       "  <tbody>\n",
       "    <tr>\n",
       "      <th>0</th>\n",
       "      <td>Afghanistan</td>\n",
       "      <td>2008</td>\n",
       "      <td>3.724</td>\n",
       "      <td>7.370</td>\n",
       "      <td>0.451</td>\n",
       "      <td>50.800</td>\n",
       "      <td>0.718</td>\n",
       "      <td>0.168</td>\n",
       "      <td>0.882</td>\n",
       "    </tr>\n",
       "    <tr>\n",
       "      <th>1</th>\n",
       "      <td>Afghanistan</td>\n",
       "      <td>2009</td>\n",
       "      <td>4.402</td>\n",
       "      <td>7.540</td>\n",
       "      <td>0.552</td>\n",
       "      <td>51.200</td>\n",
       "      <td>0.679</td>\n",
       "      <td>0.190</td>\n",
       "      <td>0.850</td>\n",
       "    </tr>\n",
       "    <tr>\n",
       "      <th>2</th>\n",
       "      <td>Afghanistan</td>\n",
       "      <td>2010</td>\n",
       "      <td>4.758</td>\n",
       "      <td>7.647</td>\n",
       "      <td>0.539</td>\n",
       "      <td>51.600</td>\n",
       "      <td>0.600</td>\n",
       "      <td>0.121</td>\n",
       "      <td>0.707</td>\n",
       "    </tr>\n",
       "    <tr>\n",
       "      <th>3</th>\n",
       "      <td>Afghanistan</td>\n",
       "      <td>2011</td>\n",
       "      <td>3.832</td>\n",
       "      <td>7.620</td>\n",
       "      <td>0.521</td>\n",
       "      <td>51.920</td>\n",
       "      <td>0.496</td>\n",
       "      <td>0.162</td>\n",
       "      <td>0.731</td>\n",
       "    </tr>\n",
       "    <tr>\n",
       "      <th>4</th>\n",
       "      <td>Afghanistan</td>\n",
       "      <td>2012</td>\n",
       "      <td>3.783</td>\n",
       "      <td>7.705</td>\n",
       "      <td>0.521</td>\n",
       "      <td>52.240</td>\n",
       "      <td>0.531</td>\n",
       "      <td>0.236</td>\n",
       "      <td>0.776</td>\n",
       "    </tr>\n",
       "    <tr>\n",
       "      <th>...</th>\n",
       "      <td>...</td>\n",
       "      <td>...</td>\n",
       "      <td>...</td>\n",
       "      <td>...</td>\n",
       "      <td>...</td>\n",
       "      <td>...</td>\n",
       "      <td>...</td>\n",
       "      <td>...</td>\n",
       "      <td>...</td>\n",
       "    </tr>\n",
       "    <tr>\n",
       "      <th>2093</th>\n",
       "      <td>Zimbabwe</td>\n",
       "      <td>2017</td>\n",
       "      <td>3.638</td>\n",
       "      <td>8.016</td>\n",
       "      <td>0.754</td>\n",
       "      <td>55.000</td>\n",
       "      <td>0.753</td>\n",
       "      <td>-0.098</td>\n",
       "      <td>0.751</td>\n",
       "    </tr>\n",
       "    <tr>\n",
       "      <th>2094</th>\n",
       "      <td>Zimbabwe</td>\n",
       "      <td>2018</td>\n",
       "      <td>3.616</td>\n",
       "      <td>8.049</td>\n",
       "      <td>0.775</td>\n",
       "      <td>55.600</td>\n",
       "      <td>0.763</td>\n",
       "      <td>-0.068</td>\n",
       "      <td>0.844</td>\n",
       "    </tr>\n",
       "    <tr>\n",
       "      <th>2095</th>\n",
       "      <td>Zimbabwe</td>\n",
       "      <td>2019</td>\n",
       "      <td>2.694</td>\n",
       "      <td>7.950</td>\n",
       "      <td>0.759</td>\n",
       "      <td>56.200</td>\n",
       "      <td>0.632</td>\n",
       "      <td>-0.064</td>\n",
       "      <td>0.831</td>\n",
       "    </tr>\n",
       "    <tr>\n",
       "      <th>2096</th>\n",
       "      <td>Zimbabwe</td>\n",
       "      <td>2020</td>\n",
       "      <td>3.160</td>\n",
       "      <td>7.829</td>\n",
       "      <td>0.717</td>\n",
       "      <td>56.800</td>\n",
       "      <td>0.643</td>\n",
       "      <td>-0.009</td>\n",
       "      <td>0.789</td>\n",
       "    </tr>\n",
       "    <tr>\n",
       "      <th>2097</th>\n",
       "      <td>Zimbabwe</td>\n",
       "      <td>2021</td>\n",
       "      <td>3.145</td>\n",
       "      <td>7.943</td>\n",
       "      <td>0.750</td>\n",
       "      <td>56.201</td>\n",
       "      <td>0.677</td>\n",
       "      <td>-0.047</td>\n",
       "      <td>0.821</td>\n",
       "    </tr>\n",
       "  </tbody>\n",
       "</table>\n",
       "<p>2098 rows × 9 columns</p>\n",
       "</div>"
      ],
      "text/plain": [
       "     country_name  year  ladder_score    GDP  social_support  life_expectancy  \\\n",
       "0     Afghanistan  2008         3.724  7.370           0.451           50.800   \n",
       "1     Afghanistan  2009         4.402  7.540           0.552           51.200   \n",
       "2     Afghanistan  2010         4.758  7.647           0.539           51.600   \n",
       "3     Afghanistan  2011         3.832  7.620           0.521           51.920   \n",
       "4     Afghanistan  2012         3.783  7.705           0.521           52.240   \n",
       "...           ...   ...           ...    ...             ...              ...   \n",
       "2093     Zimbabwe  2017         3.638  8.016           0.754           55.000   \n",
       "2094     Zimbabwe  2018         3.616  8.049           0.775           55.600   \n",
       "2095     Zimbabwe  2019         2.694  7.950           0.759           56.200   \n",
       "2096     Zimbabwe  2020         3.160  7.829           0.717           56.800   \n",
       "2097     Zimbabwe  2021         3.145  7.943           0.750           56.201   \n",
       "\n",
       "      choice_freedom  generosity  corr_perception  \n",
       "0              0.718       0.168            0.882  \n",
       "1              0.679       0.190            0.850  \n",
       "2              0.600       0.121            0.707  \n",
       "3              0.496       0.162            0.731  \n",
       "4              0.531       0.236            0.776  \n",
       "...              ...         ...              ...  \n",
       "2093           0.753      -0.098            0.751  \n",
       "2094           0.763      -0.068            0.844  \n",
       "2095           0.632      -0.064            0.831  \n",
       "2096           0.643      -0.009            0.789  \n",
       "2097           0.677      -0.047            0.821  \n",
       "\n",
       "[2098 rows x 9 columns]"
      ]
     },
     "execution_count": 4,
     "metadata": {},
     "output_type": "execute_result"
    }
   ],
   "source": [
    "# Concatenating the two data frames: First concatenate, sort by name and year, pop unnecessary columns, reset the indices\n",
    "df1 = pd.concat([df1, df2])\n",
    "df1 = df1.sort_values(['country_name', 'year'], ascending = True)\n",
    "df1.pop('pos_affect')\n",
    "df1.pop('neg_affect')\n",
    "df1.reset_index(drop=True)"
   ]
  },
  {
   "cell_type": "markdown",
   "metadata": {},
   "source": [
    "We now have two datasets that are ready for analysis: df1 contains the data on life satisfaction from countries up to 2021, df2 contains the data on positive affect from countries up to 2020"
   ]
  }
 ],
 "metadata": {
  "kernelspec": {
   "display_name": "Python 3",
   "language": "python",
   "name": "python3"
  },
  "language_info": {
   "codemirror_mode": {
    "name": "ipython",
    "version": 3
   },
   "file_extension": ".py",
   "mimetype": "text/x-python",
   "name": "python",
   "nbconvert_exporter": "python",
   "pygments_lexer": "ipython3",
   "version": "3.9.4"
  }
 },
 "nbformat": 4,
 "nbformat_minor": 2
}
