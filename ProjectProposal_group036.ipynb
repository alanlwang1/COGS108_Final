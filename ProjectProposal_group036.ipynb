{
 "cells": [
  {
   "cell_type": "markdown",
   "metadata": {},
   "source": [
    "# COGS 108 - Final Project Proposal"
   ]
  },
  {
   "cell_type": "markdown",
   "metadata": {},
   "source": [
    "# Names\n",
    "\n",
    "- Alan Wang\n",
    "- An Huynh\n",
    "- Hana Vaid\n",
    "- Seung Huh\n",
    "- Shreya Vanaki"
   ]
  },
  {
   "cell_type": "markdown",
   "metadata": {},
   "source": [
    "# Research Question"
   ]
  },
  {
   "cell_type": "markdown",
   "metadata": {},
   "source": [
    "Does economic health, biological health, or social/mental health more strongly predict happiness of a country?: \n",
    "- What indicator displays the largest difference in happiness between the top 15% of the countries more happy than the bottom 15% of the countries, in terms of the indicators of happiness?\n",
    "- Which feature overall is the most strongly correlated with higher happiness? "
   ]
  },
  {
   "cell_type": "markdown",
   "metadata": {},
   "source": [
    "## Background and Prior Work"
   ]
  },
  {
   "cell_type": "markdown",
   "metadata": {},
   "source": [
    "During a time when the opportunities for happiness seem far and fewer in between, we want to ask the question: what makes a person happy? And why are certain countries happier than others? By asking these questions, we hope to understand happiness more and measure whether it's dependent on specific circumstances or not. In order to do so, we brainstormed and decided that the factors that predict happiness are dependent on our biological needs and social needs being fulfilled. This conclusion was based on Maslow’s hierarchy of needs which stresses that humans feel most satisfied when their biological needs, social needs, and economic needs are met (based on the size/location of these predictors on Maslow’s pyramid) (4).\n",
    "\n",
    "One such measure of happiness is the World Happiness Report for 2021, which reviews the worldwide trends in the happiness score as well as patterns in the importance of the six factors of happiness in determining overall happiness in each country. The data is derived from the Gallup World Poll.  Since the release of its first World Happiness Report, the method of data collection has remained constant, that is each year’s reports are built upon a set of questions asked in the survey. This report uses measurements based on the Cantril ladder, where users are asked to rank their life satisfaction on a scale of 0 to 10. Ever since it was established, countries all over as well as, a range of institutions have used the World Happiness Index in various aspects such as economic research, geographic legislation of public policy and many more (3). \n",
    "\n",
    "There have been several studies done on past versions of the World Happiness Report. One such analysis performed by XuanKhanh Nguyen on 2015 data from this report found that the report’s happiness scores were most strongly correlated with GDP, healthy life expectancy, and social support (1). Another report on the 2006 version of this report by Angus Deaton found that “average life satisfaction is strongly related to per capita national income; each doubling of income is associated with a near one point increase in life satisfaction on a scale from 0 to 10” (2). Deaton notes that this may be because national income can lessen the effects of aging on health. \n",
    "\n",
    "Overall happiness can be defined using several different factors. Deaton argues that life satisfaction (the measure Gallup uses for happiness) is not necessarily equal to overall happiness, and that happiness can also be measured by positive affect (e.g how happy a person feels in their everyday life) (2). Because of this, we plan to examine both life satisfaction and positive affect in our analysis. \n",
    "\n",
    "References: \n",
    "1. https://towardsdatascience.com/happiness-and-life-satisfaction-ecdc7d0ab9a5 \n",
    "2. https://www.ncbi.nlm.nih.gov/pmc/articles/PMC2680297/ \n",
    "3. https://happiness-report.s3.amazonaws.com/2021/Appendix1WHR2021C2.pdf \n",
    "4. https://www.simplypsychology.org/maslow.html \n",
    "5. https://news.gallup.com/poll/105226/world-poll-methodology.aspx \n"
   ]
  },
  {
   "cell_type": "markdown",
   "metadata": {},
   "source": [
    "# Hypothesis\n"
   ]
  },
  {
   "cell_type": "markdown",
   "metadata": {},
   "source": [
    "We predict that biological health would be the strongest predictor of happiness for the surveyed countries. We make this prediction based on our assumption that people can only be happy if their basic needs are met, (as theorized by Maslow’s Hierarchy of Needs). Therefore, the countries that display higher levels of satisfaction for biological needs would have higher happiness overall."
   ]
  },
  {
   "cell_type": "markdown",
   "metadata": {},
   "source": [
    "# Data"
   ]
  },
  {
   "cell_type": "markdown",
   "metadata": {},
   "source": [
    "The ideal dataset to answer this question would have variables measuring each country’s overall happiness and a multitude of factors relating to economic, biological, and social health. Some possible variables that this dataset could include for each “health” category are:\n",
    "- Economic Health: GDP, amount of government support, average employment rate\n",
    "- Biological Health: Average life expectancy, Access to healthcare, Prevalence of chronic diseases\n",
    "- Social Health: Perception of safety, social connection, average number of close friends/family\n",
    "The dataset would ideally have observations from 195 countries (every country in the world) and from every year up until now (2021). These observations could have both qualitative and quantitative data. \n",
    "\n",
    "Based on the requirements mentioned above, we are planning to use the dataset from Gallup’s World Happiness Report, as described in our background section and located at these links.\n",
    "<br/><br/>\n",
    "Report: https://worldhappiness.report/ed/2021/\n",
    "<br/><br/>\n",
    "Associated dataset:\n",
    "- Data from 2021: https://happiness-report.s3.amazonaws.com/2021/DataForFigure2.1WHR2021C2.xls \n",
    "- Data from 2005-2020s: https://happiness-report.s3.amazonaws.com/2021/DataPanelWHR2021C2.xls\n",
    "\n",
    "In order to collect the data from 149 world countries in this poll, researchers measured the GDP of each country and took data from the Gallup World Poll. Scientists carried out this poll by asking people from each country basic questions to gather opinion on several different categories, such as social support, healthy life expectancy, freedom to make life choices, generosity, perceptions of corruption, and overall happiness. These questions included both “yes or no” and rating questions to express their thoughts on the matter (Yes being a 1, No being a 0; rating from 1-10). The answers were then averaged to measure the average opinion of each individual country on each category and used to calculate the overall happiness score for each of the countries. From this dataset, we plan to use the variables GDP for our measure of economic health, average life expectancy for our measure of biological health, and social support for our measure of social health.\n"
   ]
  },
  {
   "cell_type": "markdown",
   "metadata": {},
   "source": [
    "# Ethics & Privacy"
   ]
  },
  {
   "cell_type": "markdown",
   "metadata": {},
   "source": [
    "The data for each country in the Gallup World Poll are collected from 1,000 to 2,000 individuals which depends on the population of the country (more individuals if higher population; some exceptions of 500 to 1,000 individuals). It might seem like a small group when we consider some countries like China or India, both which have more than billions of people. We can assume that the data was collected with informed consent since subjects could refuse the survey. This is supported also by the fact that Gallup is a reputable analytics organization. (5). \n",
    "\n",
    "There do exist certain biases and privacy issues in the data we proposed. One of them being that we are unsure what conditions these results were gathered under. Some individuals who are being interviewed via telephone might do some other activity while the interview is going on, not being able to answer the questions to the best compared to those who are being interviewed face-to-face. Another being that the questions given for certain indicators may be interpreted differently by different people, and hence, the responses may not be accurate. ‘Happiness’ is subjective, it tends to differ across cultures, mindsets and societies.\n",
    "\n",
    "This dataset could also have sampling bias. Gallup states that they try to maximize the randomness of the selected groups, either by randomizing who they call or visiting houses at random times throughout the day to increase their possible sample pool. Also, they make sure to include areas of special interest to avoid leaving out representation of certain groups of people (5). However, a country like the United States has drastically different kinds of lifestyles, varying by states. As such, collecting data from a cluster of households might under represent the entirety of the nation, not being able to gather truly randomized accurate responses. \n",
    "\n",
    "This dataset also contains only observational data from survey responses, meaning that any relationships we find could have been caused by other confounding variables. When communicating our results, we would need to acknowledge that any correlations we find do not imply causation. \n",
    "\n",
    "We can check for response bias during our analysis by comparing this dataset with similar variables from another dataset and seeing if one is wildly different from the other. To account for variability in responses due to differing interpretations, we could also include data from another dataset and do a combined analysis. A larger dataset would mitigate the effects of noise generated from inaccurate responses, while preserving overall trends between variables. In addition, to account for countries not represented in the Gallup dataset, we could see if there exist similar measurements out there for excluded countries and incorporate them into our analysis after making proper adjustments to make it fit with the existing data.\n",
    "\n",
    "If someone recognizes any issues in terms of privacy, we would remove any personal information from our data such as name, mailing address, and so on. If someone recognizes any biases, we could notify other members to let them know and then we would team up and discuss together to readjust. After communicating with team members, if the solution is uncertain, we could also ask our Professor or TA for advice. \n"
   ]
  },
  {
   "cell_type": "markdown",
   "metadata": {},
   "source": [
    "# Team Expectations "
   ]
  },
  {
   "cell_type": "markdown",
   "metadata": {},
   "source": [
    "* Communicate within 1~2 days of being mentioned\n",
    "* Actively check the group chat to see what’s going on with other team members to understand how things are going\n",
    "* Communicate and resolve personal issues right away instead of putting it off until later date\n",
    "* Attend planned team meetings and schedule accordingly to unplanned meetings that might occur\n",
    "* Research about their portion ahead of time if possible (python libraries)\n",
    "* Finish their assigned task within the designated time, reach out for help if needed"
   ]
  },
  {
   "cell_type": "markdown",
   "metadata": {},
   "source": [
    "# Project Timeline Proposal"
   ]
  },
  {
   "cell_type": "markdown",
   "metadata": {},
   "source": [
    "| Meeting Date  | Meeting Time| Completed Before Meeting  | Discuss at Meeting |\n",
    "|---|---|---|---|\n",
    "| 4/14  | 7 PM |  Nothing | Introduced ourselves to one another; filled out the Project Review form together; discussed potential topics for the project | \n",
    "| 4/18  | 5 PM | Think about possible topics  | Talked about possible topics and searching datasets that we can use for the project   |\n",
    "| 4/21  | 7 PM  | Contacted the TA and the professor for feedback about our possible topic | Finalized our dataset that we are going to use and the research question and its subquestions   |\n",
    "| 4/23  | 7 PM  | Work on our individual portions of the Proposal | Finalize our proposal and discuss what to do for the first checkpoint |\n",
    "| 4/28  | 7 PM  | Think about how to calculate the data that we have | Work on first checkpoint |\n",
    "| 5/5  | 7 PM  | Finish our individual tasks for the calculation | Finish the work for the first checkpoint |\n",
    "| 5/12  | 7 PM  | Independently look over the requirements for the second checkpoint | Start splitting up the work for the second checkpoint |\n",
    "| 5/19  | 7 PM  | Finish our individual tasks for EDA checkpoint | Finish the work for the second checkpoint, plan how to work on the video |\n",
    "| 5/26  | 7 PM  | Come up with ideas for the video | Finalize the plan the script for the video |\n",
    "| 6/2 | 7 PM  | Finish our tasks for the video and the report | Finish the video and the report for submission |"
   ]
  }
 ],
 "metadata": {
  "kernelspec": {
   "display_name": "Python 3",
   "language": "python",
   "name": "python3"
  },
  "language_info": {
   "codemirror_mode": {
    "name": "ipython",
    "version": 3
   },
   "file_extension": ".py",
   "mimetype": "text/x-python",
   "name": "python",
   "nbconvert_exporter": "python",
   "pygments_lexer": "ipython3",
   "version": "3.9.5"
  }
 },
 "nbformat": 4,
 "nbformat_minor": 2
}
